{
 "cells": [
  {
   "cell_type": "code",
   "execution_count": 1,
   "id": "1a1b51a4",
   "metadata": {},
   "outputs": [
    {
     "name": "stdout",
     "output_type": "stream",
     "text": [
      "Queue after insertion: [10, 10, 20, 30]\n",
      "Removed element: 10\n",
      "Queue after deletion: [10, 20, 30]\n",
      "Sorted queue: [10, 20, 30]\n",
      "Queue after swapping: [20, 10, 30]\n"
     ]
    }
   ],
   "source": [
    "queue = [10]\n",
    "queue.append(10)\n",
    "queue.append(20)\n",
    "queue.append(30)\n",
    "print(\"Queue after insertion:\", queue)\n",
    "removed = queue.pop(0)\n",
    "print(\"Removed element:\", removed)\n",
    "print(\"Queue after deletion:\", queue)\n",
    "queue.sort()\n",
    "print(\"Sorted queue:\", queue)\n",
    "queue[0], queue [1] = queue [1], queue [0]\n",
    "print(\"Queue after swapping:\", queue)"
   ]
  }
 ],
 "metadata": {
  "kernelspec": {
   "display_name": "base",
   "language": "python",
   "name": "python3"
  },
  "language_info": {
   "codemirror_mode": {
    "name": "ipython",
    "version": 3
   },
   "file_extension": ".py",
   "mimetype": "text/x-python",
   "name": "python",
   "nbconvert_exporter": "python",
   "pygments_lexer": "ipython3",
   "version": "3.12.7"
  }
 },
 "nbformat": 4,
 "nbformat_minor": 5
}
